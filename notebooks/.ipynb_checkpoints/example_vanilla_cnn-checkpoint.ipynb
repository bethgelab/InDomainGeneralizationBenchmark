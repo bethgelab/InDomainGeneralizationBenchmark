{
 "cells": [
  {
   "cell_type": "code",
   "execution_count": null,
   "metadata": {},
   "outputs": [],
   "source": [
    "import sys\n",
    "sys.path.insert(0, './../src')\n",
    "\n",
    "import numpy as np\n",
    "\n",
    "import lablet_generalization_benchmark.evaluate_model as evaluate_model\n",
    "import lablet_generalization_benchmark.load_dataset as load_dataset\n",
    "import lablet_generalization_benchmark.model as models\n",
    "import torch"
   ]
  },
  {
   "cell_type": "code",
   "execution_count": null,
   "metadata": {
    "collapsed": false,
    "jupyter": {
     "outputs_hidden": false
    },
    "pycharm": {
     "name": "#%%\n"
    }
   },
   "outputs": [],
   "source": [
    "dataloader = load_dataset.load_dataset(\n",
    "    dataset_name='mpi3d',  # datasets are dsprites, shapes3d and mpi3d\n",
    "    variant='extrapolation',  # split types are random, composition, interpolation, extrapolation\n",
    "    mode='test',\n",
    "    dataset_path='./../../LabletGeneralizationStudy/data/', \n",
    "    batch_size=256, \n",
    "    num_workers=10\n",
    ")"
   ]
  },
  {
   "cell_type": "markdown",
   "metadata": {},
   "source": [
    "Next, we define a model_fn evaluating a pre-trained Vanilla CNN"
   ]
  },
  {
   "cell_type": "code",
   "execution_count": null,
   "metadata": {
    "collapsed": false,
    "jupyter": {
     "outputs_hidden": false
    },
    "pycharm": {
     "name": "#%%\n"
    }
   },
   "outputs": [],
   "source": [
    "device = 'cuda'  # cuda or cpu\n",
    "model = models.VanillaCNN(number_of_classes=len(dataloader.dataset._factor_sizes), \n",
    "                          number_of_channels=3).to(device)\n",
    "checkpoint = torch.load('../assets/mpi3d_extrapolation_vanilla_seed00_--2021-02-21-12-05-32/last_epoch.pt', \n",
    "                        map_location=torch.device(device))\n",
    "model.load_state_dict(checkpoint['model'])\n",
    "epoch = checkpoint['epoch']\n",
    "\n",
    "model.eval()\n",
    "\n",
    "def model_fn(images):\n",
    "    representation = model(torch.tensor(images).to(device))\n",
    "    return representation.detach().cpu().numpy()"
   ]
  },
  {
   "cell_type": "markdown",
   "metadata": {},
   "source": [
    "Finally, we evaluate the model by calling the evaluation module"
   ]
  },
  {
   "cell_type": "code",
   "execution_count": null,
   "metadata": {
    "collapsed": false,
    "jupyter": {
     "outputs_hidden": false
    },
    "pycharm": {
     "name": "#%%\n"
    }
   },
   "outputs": [],
   "source": [
    "scores = evaluate_model.evaluate_model(model_fn, dataloader)\n",
    "scores"
   ]
  },
  {
   "cell_type": "code",
   "execution_count": null,
   "metadata": {},
   "outputs": [],
   "source": [
    "# random model \n",
    "def model_fn_random(images):\n",
    "    number_targets = len(dataloader.dataset._factor_sizes)\n",
    "    predictions = np.random.random((images.shape[0], number_targets))\n",
    "    return predictions"
   ]
  },
  {
   "cell_type": "code",
   "execution_count": null,
   "metadata": {},
   "outputs": [],
   "source": [
    "scores = evaluate_model.evaluate_model(model_fn_random, dataloader)\n",
    "scores"
   ]
  }
 ],
 "metadata": {
  "kernelspec": {
   "display_name": "Python 3",
   "language": "python",
   "name": "python3"
  },
  "language_info": {
   "codemirror_mode": {
    "name": "ipython",
    "version": 3
   },
   "file_extension": ".py",
   "mimetype": "text/x-python",
   "name": "python",
   "nbconvert_exporter": "python",
   "pygments_lexer": "ipython3",
   "version": "3.6.13"
  },
  "pycharm": {
   "stem_cell": {
    "cell_type": "raw",
    "metadata": {
     "collapsed": false
    },
    "source": []
   }
  }
 },
 "nbformat": 4,
 "nbformat_minor": 4
}
